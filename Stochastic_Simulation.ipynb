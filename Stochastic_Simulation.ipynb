{
 "cells": [
  {
   "cell_type": "code",
   "execution_count": 106,
   "id": "b8bf5ef7-5144-4c89-9b5e-56f34f2999b5",
   "metadata": {},
   "outputs": [],
   "source": [
    "import random"
   ]
  },
  {
   "cell_type": "code",
   "execution_count": 112,
   "id": "75c00440-56fe-4d47-badd-8164e159366f",
   "metadata": {},
   "outputs": [],
   "source": [
    "# simulation for rolling a dice \n",
    "def roll_die():\n",
    "    return random.randint(1,6)\n",
    "\n",
    "def runSim(goal, num_trials):\n",
    "    total = 0\n",
    "    for trial in range(num_trials):\n",
    "        result = ''\n",
    "        for j in range(len(goal)):\n",
    "            result = result + str(roll_die())\n",
    "        if result == goal:\n",
    "            total = total + 1\n",
    "    print('Actual probability of', round(1/(6**len(goal)), 8)) \n",
    "    estimated_prob = round(total/num_trials, 8)\n",
    "    print(f'The estimated probability by simulation is {estimated_prob}')\n",
    "    "
   ]
  },
  {
   "cell_type": "code",
   "execution_count": 113,
   "id": "7d1bf87e-75e6-4fed-8328-037fa8fc974d",
   "metadata": {},
   "outputs": [
    {
     "name": "stdout",
     "output_type": "stream",
     "text": [
      "Actual probability of 0.00462963\n",
      "The estimated probability by simulation is 0.00453\n"
     ]
    }
   ],
   "source": [
    "runSim('123', 100000)"
   ]
  },
  {
   "cell_type": "code",
   "execution_count": 115,
   "id": "53c16cb5-45ab-4ef4-8638-d8fdb4e9550a",
   "metadata": {},
   "outputs": [
    {
     "name": "stdout",
     "output_type": "stream",
     "text": [
      "for 10 people the estimated probabilit of shared birthday is 0.119\n",
      "for 20 people the estimated probabilit of shared birthday is 0.402\n"
     ]
    }
   ],
   "source": [
    "# when in a group probability of two people having the same birthday \n",
    "def sameDate(numPeople, numsame):\n",
    "    possible_dates = range(366)\n",
    "    birthdays = [0]*366\n",
    "    for i in range(numPeople):\n",
    "        birthdate = random.choice(possible_dates)\n",
    "        birthdays[birthdate] += 1 \n",
    "    return max(birthdays) >= numsame\n",
    "\n",
    "def birthdayProb(numPeople, numSame, numTrials):\n",
    "    numHits = 0\n",
    "    for t in range(numTrials):\n",
    "        if sameDate(numPeople, numSame):\n",
    "            numHits += 1\n",
    "    return numHits/numTrials\n",
    "        \n",
    "for numPeople in [10, 20]:\n",
    "    print(f'for {numPeople} people the estimated probabilit of shared birthday is {birthdayProb(numPeople, 2, 1000)}')    "
   ]
  }
 ],
 "metadata": {
  "kernelspec": {
   "display_name": "Python 3 (ipykernel)",
   "language": "python",
   "name": "python3"
  },
  "language_info": {
   "codemirror_mode": {
    "name": "ipython",
    "version": 3
   },
   "file_extension": ".py",
   "mimetype": "text/x-python",
   "name": "python",
   "nbconvert_exporter": "python",
   "pygments_lexer": "ipython3",
   "version": "3.9.16"
  }
 },
 "nbformat": 4,
 "nbformat_minor": 5
}
